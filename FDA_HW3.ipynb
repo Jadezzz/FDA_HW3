{
 "cells": [
  {
   "cell_type": "markdown",
   "metadata": {},
   "source": [
    "# FDA HW3\n",
    "\n",
    "## Overview\n",
    "\n",
    "### Part 1\n",
    "預測股票 [S&P500 指數](https://www.sharecast.com/index/SP_500/prices/download)的漲跌\n",
    "\n",
    "使用三種不同的 Model：\n",
    "\n",
    "1. Logistic Regression\n",
    "2. Support Vector Machine\n",
    "3. Neural Network\n",
    "\n",
    "並比較其預測結果的差異\n",
    "\n",
    "### Part 2\n",
    "\n",
    "對股票的 Dataset 做不同的 Feature Engineering 再比較各種 Model 的表現\n",
    "\n",
    "### Part 3\n",
    "\n",
    "在 Titanic Dataset 中測試並比較三種不同 Model 的表現"
   ]
  },
  {
   "cell_type": "code",
   "execution_count": 7,
   "metadata": {},
   "outputs": [],
   "source": [
    "from keras import models, layers, optimizers, regularizers\n",
    "import matplotlib.pyplot as plt\n",
    "import pandas as pd\n",
    "import numpy as np\n",
    "%matplotlib inline\n",
    "\n",
    "from sklearn.metrics import accuracy_score\n",
    "\n",
    "import warnings\n",
    "warnings.filterwarnings('ignore')"
   ]
  },
  {
   "cell_type": "markdown",
   "metadata": {},
   "source": [
    "## Data Preprocessing\n",
    "\n",
    "從 [S&P500 指數](https://www.sharecast.com/index/SP_500/prices/download) 網站下載 2009/1/2 到 2018/12/31 的資料作爲 Dataset\n",
    "\n",
    "共 2516 筆資料\n",
    "\n",
    "1. 制作 Target （1：漲，0：跌）\n",
    "    \n",
    "    對於資料的每一個 row index n， 設定 data\\[n\\] 的 Target 爲 data\\[n+1\\] 的 Closing Price 和當前 data\\[n\\] 的 Closing Price 相比，如果 data\\[n+1\\] 的 Closing Price 大於 data\\[n\\] 的 Closing Price，則代表對於 data\\[n\\] 來說下一個時間點會漲價，設定爲1，反之，設定爲0\n",
    "    \n",
    "\n",
    "2. 分析日期\n",
    "\n",
    "    利用 pandas 的功能，將日期轉換成 Datatime 的格式，再把日期分爲\n",
    "    * 日\n",
    "    * 月\n",
    "    * 年\n",
    "    * 星期幾（day-of-week）\n",
    "    \n"
   ]
  },
  {
   "cell_type": "code",
   "execution_count": 8,
   "metadata": {
    "scrolled": true
   },
   "outputs": [
    {
     "data": {
      "text/html": [
       "<div>\n",
       "<style scoped>\n",
       "    .dataframe tbody tr th:only-of-type {\n",
       "        vertical-align: middle;\n",
       "    }\n",
       "\n",
       "    .dataframe tbody tr th {\n",
       "        vertical-align: top;\n",
       "    }\n",
       "\n",
       "    .dataframe thead th {\n",
       "        text-align: right;\n",
       "    }\n",
       "</style>\n",
       "<table border=\"1\" class=\"dataframe\">\n",
       "  <thead>\n",
       "    <tr style=\"text-align: right;\">\n",
       "      <th></th>\n",
       "      <th>Open Price</th>\n",
       "      <th>Close Price</th>\n",
       "      <th>High Price</th>\n",
       "      <th>Low Price</th>\n",
       "      <th>Volume</th>\n",
       "      <th>year</th>\n",
       "      <th>month</th>\n",
       "      <th>day</th>\n",
       "      <th>day_of_week</th>\n",
       "      <th>target</th>\n",
       "    </tr>\n",
       "  </thead>\n",
       "  <tbody>\n",
       "    <tr>\n",
       "      <th>count</th>\n",
       "      <td>2516.000000</td>\n",
       "      <td>2516.000000</td>\n",
       "      <td>2516.000000</td>\n",
       "      <td>2516.000000</td>\n",
       "      <td>2.516000e+03</td>\n",
       "      <td>2516.000000</td>\n",
       "      <td>2516.000000</td>\n",
       "      <td>2516.000000</td>\n",
       "      <td>2516.000000</td>\n",
       "      <td>2516.000000</td>\n",
       "    </tr>\n",
       "    <tr>\n",
       "      <th>mean</th>\n",
       "      <td>1765.493029</td>\n",
       "      <td>1765.867067</td>\n",
       "      <td>1774.433740</td>\n",
       "      <td>1755.869141</td>\n",
       "      <td>2.869158e+09</td>\n",
       "      <td>2013.498410</td>\n",
       "      <td>6.547695</td>\n",
       "      <td>15.721383</td>\n",
       "      <td>2.021463</td>\n",
       "      <td>0.545310</td>\n",
       "    </tr>\n",
       "    <tr>\n",
       "      <th>std</th>\n",
       "      <td>566.003293</td>\n",
       "      <td>565.538751</td>\n",
       "      <td>566.671163</td>\n",
       "      <td>564.789277</td>\n",
       "      <td>1.312045e+09</td>\n",
       "      <td>2.873129</td>\n",
       "      <td>3.425508</td>\n",
       "      <td>8.746114</td>\n",
       "      <td>1.399068</td>\n",
       "      <td>0.498042</td>\n",
       "    </tr>\n",
       "    <tr>\n",
       "      <th>min</th>\n",
       "      <td>679.280000</td>\n",
       "      <td>676.530000</td>\n",
       "      <td>695.270000</td>\n",
       "      <td>666.790000</td>\n",
       "      <td>5.181584e+08</td>\n",
       "      <td>2009.000000</td>\n",
       "      <td>1.000000</td>\n",
       "      <td>1.000000</td>\n",
       "      <td>0.000000</td>\n",
       "      <td>0.000000</td>\n",
       "    </tr>\n",
       "    <tr>\n",
       "      <th>25%</th>\n",
       "      <td>1278.175000</td>\n",
       "      <td>1278.315000</td>\n",
       "      <td>1286.160000</td>\n",
       "      <td>1268.235000</td>\n",
       "      <td>2.016047e+09</td>\n",
       "      <td>2011.000000</td>\n",
       "      <td>4.000000</td>\n",
       "      <td>8.000000</td>\n",
       "      <td>1.000000</td>\n",
       "      <td>0.000000</td>\n",
       "    </tr>\n",
       "    <tr>\n",
       "      <th>50%</th>\n",
       "      <td>1806.270000</td>\n",
       "      <td>1805.450000</td>\n",
       "      <td>1810.450000</td>\n",
       "      <td>1800.675000</td>\n",
       "      <td>2.425113e+09</td>\n",
       "      <td>2013.500000</td>\n",
       "      <td>7.000000</td>\n",
       "      <td>16.000000</td>\n",
       "      <td>2.000000</td>\n",
       "      <td>1.000000</td>\n",
       "    </tr>\n",
       "    <tr>\n",
       "      <th>75%</th>\n",
       "      <td>2122.492500</td>\n",
       "      <td>2124.222500</td>\n",
       "      <td>2129.150000</td>\n",
       "      <td>2113.325000</td>\n",
       "      <td>3.248909e+09</td>\n",
       "      <td>2016.000000</td>\n",
       "      <td>10.000000</td>\n",
       "      <td>23.000000</td>\n",
       "      <td>3.000000</td>\n",
       "      <td>1.000000</td>\n",
       "    </tr>\n",
       "    <tr>\n",
       "      <th>max</th>\n",
       "      <td>2936.760000</td>\n",
       "      <td>2930.750000</td>\n",
       "      <td>2940.910000</td>\n",
       "      <td>2927.110000</td>\n",
       "      <td>9.120100e+09</td>\n",
       "      <td>2018.000000</td>\n",
       "      <td>12.000000</td>\n",
       "      <td>31.000000</td>\n",
       "      <td>4.000000</td>\n",
       "      <td>1.000000</td>\n",
       "    </tr>\n",
       "  </tbody>\n",
       "</table>\n",
       "</div>"
      ],
      "text/plain": [
       "        Open Price  Close Price   High Price    Low Price        Volume  \\\n",
       "count  2516.000000  2516.000000  2516.000000  2516.000000  2.516000e+03   \n",
       "mean   1765.493029  1765.867067  1774.433740  1755.869141  2.869158e+09   \n",
       "std     566.003293   565.538751   566.671163   564.789277  1.312045e+09   \n",
       "min     679.280000   676.530000   695.270000   666.790000  5.181584e+08   \n",
       "25%    1278.175000  1278.315000  1286.160000  1268.235000  2.016047e+09   \n",
       "50%    1806.270000  1805.450000  1810.450000  1800.675000  2.425113e+09   \n",
       "75%    2122.492500  2124.222500  2129.150000  2113.325000  3.248909e+09   \n",
       "max    2936.760000  2930.750000  2940.910000  2927.110000  9.120100e+09   \n",
       "\n",
       "              year        month          day  day_of_week       target  \n",
       "count  2516.000000  2516.000000  2516.000000  2516.000000  2516.000000  \n",
       "mean   2013.498410     6.547695    15.721383     2.021463     0.545310  \n",
       "std       2.873129     3.425508     8.746114     1.399068     0.498042  \n",
       "min    2009.000000     1.000000     1.000000     0.000000     0.000000  \n",
       "25%    2011.000000     4.000000     8.000000     1.000000     0.000000  \n",
       "50%    2013.500000     7.000000    16.000000     2.000000     1.000000  \n",
       "75%    2016.000000    10.000000    23.000000     3.000000     1.000000  \n",
       "max    2018.000000    12.000000    31.000000     4.000000     1.000000  "
      ]
     },
     "execution_count": 8,
     "metadata": {},
     "output_type": "execute_result"
    }
   ],
   "source": [
    "data=pd.read_csv('stock.csv')\n",
    "\n",
    "target = np.zeros(len(data))\n",
    "for index in range(len(data)-1):\n",
    "    cur = data.iloc[index, 2]\n",
    "    nxt = data.iloc[index+1, 2]\n",
    "    \n",
    "    if nxt >= cur:\n",
    "        target[index] = 1\n",
    "    else:\n",
    "        target[index] = 0\n",
    "\n",
    "data['Date'] = pd.to_datetime(data['Date'])\n",
    "data['year'] = data['Date'].dt.year\n",
    "data['month'] = data['Date'].dt.month\n",
    "data['day'] = data['Date'].dt.day\n",
    "data['day_of_week'] = data['Date'].dt.dayofweek\n",
    "\n",
    "data['target'] = target\n",
    "\n",
    "data.describe()"
   ]
  },
  {
   "cell_type": "code",
   "execution_count": 9,
   "metadata": {},
   "outputs": [
    {
     "data": {
      "text/html": [
       "<div>\n",
       "<style scoped>\n",
       "    .dataframe tbody tr th:only-of-type {\n",
       "        vertical-align: middle;\n",
       "    }\n",
       "\n",
       "    .dataframe tbody tr th {\n",
       "        vertical-align: top;\n",
       "    }\n",
       "\n",
       "    .dataframe thead th {\n",
       "        text-align: right;\n",
       "    }\n",
       "</style>\n",
       "<table border=\"1\" class=\"dataframe\">\n",
       "  <thead>\n",
       "    <tr style=\"text-align: right;\">\n",
       "      <th></th>\n",
       "      <th>Date</th>\n",
       "      <th>Open Price</th>\n",
       "      <th>Close Price</th>\n",
       "      <th>High Price</th>\n",
       "      <th>Low Price</th>\n",
       "      <th>Volume</th>\n",
       "      <th>year</th>\n",
       "      <th>month</th>\n",
       "      <th>day</th>\n",
       "      <th>day_of_week</th>\n",
       "      <th>target</th>\n",
       "    </tr>\n",
       "  </thead>\n",
       "  <tbody>\n",
       "    <tr>\n",
       "      <th>0</th>\n",
       "      <td>2009-01-02</td>\n",
       "      <td>902.99</td>\n",
       "      <td>931.80</td>\n",
       "      <td>934.73</td>\n",
       "      <td>899.35</td>\n",
       "      <td>4048270080</td>\n",
       "      <td>2009</td>\n",
       "      <td>1</td>\n",
       "      <td>2</td>\n",
       "      <td>4</td>\n",
       "      <td>0.0</td>\n",
       "    </tr>\n",
       "    <tr>\n",
       "      <th>1</th>\n",
       "      <td>2009-01-05</td>\n",
       "      <td>929.17</td>\n",
       "      <td>927.45</td>\n",
       "      <td>936.63</td>\n",
       "      <td>919.53</td>\n",
       "      <td>5413910016</td>\n",
       "      <td>2009</td>\n",
       "      <td>1</td>\n",
       "      <td>5</td>\n",
       "      <td>0</td>\n",
       "      <td>1.0</td>\n",
       "    </tr>\n",
       "    <tr>\n",
       "      <th>2</th>\n",
       "      <td>2009-01-06</td>\n",
       "      <td>931.17</td>\n",
       "      <td>934.70</td>\n",
       "      <td>943.85</td>\n",
       "      <td>927.28</td>\n",
       "      <td>5392620032</td>\n",
       "      <td>2009</td>\n",
       "      <td>1</td>\n",
       "      <td>6</td>\n",
       "      <td>1</td>\n",
       "      <td>0.0</td>\n",
       "    </tr>\n",
       "    <tr>\n",
       "      <th>3</th>\n",
       "      <td>2009-01-07</td>\n",
       "      <td>927.45</td>\n",
       "      <td>906.65</td>\n",
       "      <td>927.45</td>\n",
       "      <td>902.37</td>\n",
       "      <td>4704940032</td>\n",
       "      <td>2009</td>\n",
       "      <td>1</td>\n",
       "      <td>7</td>\n",
       "      <td>2</td>\n",
       "      <td>1.0</td>\n",
       "    </tr>\n",
       "    <tr>\n",
       "      <th>4</th>\n",
       "      <td>2009-01-08</td>\n",
       "      <td>905.73</td>\n",
       "      <td>909.73</td>\n",
       "      <td>910.00</td>\n",
       "      <td>896.81</td>\n",
       "      <td>4991549952</td>\n",
       "      <td>2009</td>\n",
       "      <td>1</td>\n",
       "      <td>8</td>\n",
       "      <td>3</td>\n",
       "      <td>0.0</td>\n",
       "    </tr>\n",
       "  </tbody>\n",
       "</table>\n",
       "</div>"
      ],
      "text/plain": [
       "        Date  Open Price  Close Price  High Price  Low Price      Volume  \\\n",
       "0 2009-01-02      902.99       931.80      934.73     899.35  4048270080   \n",
       "1 2009-01-05      929.17       927.45      936.63     919.53  5413910016   \n",
       "2 2009-01-06      931.17       934.70      943.85     927.28  5392620032   \n",
       "3 2009-01-07      927.45       906.65      927.45     902.37  4704940032   \n",
       "4 2009-01-08      905.73       909.73      910.00     896.81  4991549952   \n",
       "\n",
       "   year  month  day  day_of_week  target  \n",
       "0  2009      1    2            4     0.0  \n",
       "1  2009      1    5            0     1.0  \n",
       "2  2009      1    6            1     0.0  \n",
       "3  2009      1    7            2     1.0  \n",
       "4  2009      1    8            3     0.0  "
      ]
     },
     "execution_count": 9,
     "metadata": {},
     "output_type": "execute_result"
    }
   ],
   "source": [
    "data.head()"
   ]
  },
  {
   "cell_type": "markdown",
   "metadata": {},
   "source": [
    "### Some Observations\n",
    "\n",
    "1. 股票交易的時間是 星期一（0）到 星期五（4）（因爲 day-of-week 最大值爲 4）\n",
    "2. 資料集中有 54% 的資料是漲， 46% 資料是跌"
   ]
  },
  {
   "cell_type": "markdown",
   "metadata": {},
   "source": [
    "### Closing Price Movement\n",
    "\n",
    "從 2009 年到 2019 年的大趨勢是一直在漲，但在 2018 年底跌的很慘\n",
    "\n",
    "這裏加入 30 天的 Rolling Mean 來更好看出股票的走向"
   ]
  },
  {
   "cell_type": "code",
   "execution_count": 10,
   "metadata": {
    "scrolled": true
   },
   "outputs": [
    {
     "data": {
      "image/png": "[encoded data removed]",
      "text/plain": [
       "<Figure size 1080x504 with 1 Axes>"
      ]
     },
     "metadata": {
      "needs_background": "light"
     },
     "output_type": "display_data"
    }
   ],
   "source": [
    "plt.figure(figsize=(15,7))\n",
    "plt.plot_date(data['Date'], data['Close Price'], '-')\n",
    "plt.plot_date(data['Date'], data['Close Price'].rolling(30).mean(), '-')\n",
    "plt.title('S&P 500 Index')\n",
    "plt.legend(['Close Price', '30-day-rolling Close Price'])\n",
    "plt.xlabel('year')\n",
    "plt.show()"
   ]
  },
  {
   "cell_type": "markdown",
   "metadata": {},
   "source": [
    "### Train / Test Split\n",
    "\n",
    "根據題目要求：\n",
    "\n",
    "* Training Set 爲 2009/1/2 到 2017/12/29\n",
    "\n",
    "* Test Set 爲 2018/1/2 到 2018/12/31\n",
    "\n",
    "\n",
    "Training Set 共 2264 筆資料\n",
    "\n",
    "Test Set 共 252 筆資料"
   ]
  },
  {
   "cell_type": "code",
   "execution_count": 11,
   "metadata": {},
   "outputs": [],
   "source": [
    "train = data[data['year'] < 2018]\n",
    "test = data[data['year'] == 2018]"
   ]
  },
  {
   "cell_type": "code",
   "execution_count": 12,
   "metadata": {
    "scrolled": true
   },
   "outputs": [
    {
     "data": {
      "text/plain": [
       "(2264, 11)"
      ]
     },
     "execution_count": 12,
     "metadata": {},
     "output_type": "execute_result"
    }
   ],
   "source": [
    "train.shape"
   ]
  },
  {
   "cell_type": "code",
   "execution_count": 13,
   "metadata": {},
   "outputs": [
    {
     "data": {
      "text/plain": [
       "(252, 11)"
      ]
     },
     "execution_count": 13,
     "metadata": {},
     "output_type": "execute_result"
    }
   ],
   "source": [
    "test.shape"
   ]
  },
  {
   "cell_type": "markdown",
   "metadata": {},
   "source": [
    "### Feature Selection\n",
    "\n",
    "* Open Price: 開盤價\n",
    "\n",
    "* Close Price: 收盤價\n",
    "\n",
    "* High Price: 期間最高價\n",
    "\n",
    "* Low Price: 期間最低價\n",
    "\n",
    "* Volume: 交易數量\n",
    "\n",
    "因爲每一個 feature 的 range 有所不同，所以進行標準化\n",
    "\n",
    "預測的 Ground Truth 就是資料集中的 Target"
   ]
  },
  {
   "cell_type": "code",
   "execution_count": 14,
   "metadata": {},
   "outputs": [],
   "source": [
    "train_x = train[['Open Price', 'Close Price', 'High Price', 'Low Price', 'Volume']]\n",
    "train_y = train['target']\n",
    "test_x = test[['Open Price', 'Close Price', 'High Price', 'Low Price', 'Volume']]\n",
    "test_y = test['target']"
   ]
  },
  {
   "cell_type": "code",
   "execution_count": 15,
   "metadata": {},
   "outputs": [],
   "source": [
    "from sklearn.preprocessing import StandardScaler\n",
    "\n",
    "scaler = StandardScaler()\n",
    "scaler.fit(train_x)\n",
    "\n",
    "std_train_x = scaler.transform(train_x)\n",
    "std_test_x = scaler.transform(test_x)"
   ]
  },
  {
   "cell_type": "markdown",
   "metadata": {},
   "source": [
    "## 0. Baseline\n",
    "\n",
    "如果對全部結果預測 True， 準確率爲 0.5238"
   ]
  },
  {
   "cell_type": "code",
   "execution_count": 11,
   "metadata": {},
   "outputs": [
    {
     "name": "stdout",
     "output_type": "stream",
     "text": [
      "0.5238095238095238\n"
     ]
    }
   ],
   "source": [
    "baseline_pred = [True] * len(test_y)\n",
    "print(accuracy_score(test_y, baseline_pred))"
   ]
  },
  {
   "cell_type": "markdown",
   "metadata": {},
   "source": [
    "## 1. Logistic Regression\n",
    "\n",
    "使用全部默認的參數設定"
   ]
  },
  {
   "cell_type": "code",
   "execution_count": 12,
   "metadata": {
    "scrolled": true
   },
   "outputs": [],
   "source": [
    "from sklearn.linear_model import LogisticRegression\n",
    "\n",
    "logi_model = LogisticRegression()\n",
    "_ = logi_model.fit(std_train_x, train_y)"
   ]
  },
  {
   "cell_type": "markdown",
   "metadata": {},
   "source": [
    "### Testing\n",
    "\n",
    "這個 Model 很不準，只有 0.5238 的準確度"
   ]
  },
  {
   "cell_type": "code",
   "execution_count": 13,
   "metadata": {
    "scrolled": false
   },
   "outputs": [
    {
     "name": "stdout",
     "output_type": "stream",
     "text": [
      "0.5238095238095238\n"
     ]
    }
   ],
   "source": [
    "logi_pred = logi_model.predict(std_test_x)\n",
    "print(accuracy_score(test_y, logi_pred))"
   ]
  },
  {
   "cell_type": "markdown",
   "metadata": {},
   "source": [
    "有趣的是， 0.5238 跟 Baseline 是一樣的！\n",
    "\n",
    "看一下 Logistic regression 預測的結果，果然幾乎全部都預測爲 1"
   ]
  },
  {
   "cell_type": "code",
   "execution_count": 14,
   "metadata": {},
   "outputs": [
    {
     "data": {
      "text/plain": [
       "array([1., 1., 1., 1., 1., 1., 1., 1., 1., 1., 1., 1., 1., 1., 1., 1., 1.,\n",
       "       1., 1., 1., 1., 1., 1., 1., 0., 1., 1., 1., 1., 1., 1., 1., 1., 1.,\n",
       "       1., 1., 1., 1., 1., 1., 1., 1., 1., 1., 1., 1., 1., 1., 1., 1., 1.,\n",
       "       1., 1., 1., 1., 1., 1., 1., 1., 1., 1., 1., 1., 1., 1., 1., 1., 1.,\n",
       "       1., 1., 1., 1., 1., 1., 1., 1., 1., 1., 1., 1., 1., 1., 1., 1., 1.,\n",
       "       1., 1., 1., 1., 1., 1., 1., 1., 1., 1., 1., 1., 1., 1., 1., 1., 1.,\n",
       "       1., 1., 1., 1., 1., 1., 1., 1., 1., 1., 1., 1., 1., 1., 1., 1., 1.,\n",
       "       1., 1., 1., 1., 1., 1., 1., 1., 1., 1., 1., 1., 1., 1., 1., 1., 1.,\n",
       "       1., 1., 1., 1., 1., 1., 1., 1., 1., 1., 1., 1., 1., 1., 1., 1., 1.,\n",
       "       1., 1., 1., 1., 1., 1., 1., 1., 1., 1., 1., 1., 1., 1., 1., 1., 1.,\n",
       "       1., 1., 1., 1., 1., 1., 1., 1., 1., 1., 1., 1., 1., 1., 1., 1., 1.,\n",
       "       1., 1., 1., 1., 1., 1., 1., 1., 1., 1., 1., 1., 1., 1., 1., 1., 1.,\n",
       "       1., 1., 1., 1., 1., 1., 1., 1., 1., 1., 1., 1., 1., 1., 1., 1., 1.,\n",
       "       1., 1., 1., 1., 1., 1., 1., 1., 1., 1., 1., 1., 1., 1., 1., 1., 1.,\n",
       "       1., 1., 1., 1., 1., 1., 1., 1., 1., 1., 0., 1., 1., 1.])"
      ]
     },
     "execution_count": 14,
     "metadata": {},
     "output_type": "execute_result"
    }
   ],
   "source": [
    "logi_pred"
   ]
  },
  {
   "cell_type": "markdown",
   "metadata": {},
   "source": [
    "### 嘗試修改 Class Weight\n",
    "\n",
    "把 class weight 改成 balanced，因爲資料集中有 54% （>50%）是 1，調整 class weight 可以解決分類類型不平衡問題\n",
    "\n",
    "**但結果反而更差**"
   ]
  },
  {
   "cell_type": "code",
   "execution_count": 15,
   "metadata": {},
   "outputs": [],
   "source": [
    "logi_model = LogisticRegression(class_weight='balanced')\n",
    "_ = logi_model.fit(std_train_x, train_y)"
   ]
  },
  {
   "cell_type": "code",
   "execution_count": 16,
   "metadata": {
    "scrolled": true
   },
   "outputs": [
    {
     "name": "stdout",
     "output_type": "stream",
     "text": [
      "0.4880952380952381\n"
     ]
    }
   ],
   "source": [
    "logi_pred = logi_model.predict(std_test_x)\n",
    "print(accuracy_score(test_y, logi_pred))"
   ]
  },
  {
   "cell_type": "markdown",
   "metadata": {},
   "source": [
    "### 嘗試用少一點 feature \n",
    "\n",
    "說不定有一些 feature 太復雜造成反效果？"
   ]
  },
  {
   "cell_type": "markdown",
   "metadata": {},
   "source": [
    "試着只用 'Open Price' 和 'Close Price'\n",
    "\n",
    "準確率有提高一些"
   ]
  },
  {
   "cell_type": "code",
   "execution_count": 31,
   "metadata": {},
   "outputs": [
    {
     "name": "stdout",
     "output_type": "stream",
     "text": [
      "0.5277777777777778\n"
     ]
    }
   ],
   "source": [
    "logi_model = LogisticRegression()\n",
    "_ = logi_model.fit(train[['Open Price', 'Close Price']], train_y)\n",
    "logi_pred = logi_model.predict(test[['Open Price', 'Close Price']])\n",
    "print(accuracy_score(test_y, logi_pred))"
   ]
  },
  {
   "cell_type": "markdown",
   "metadata": {},
   "source": [
    "試着只用 'High Price' 和 'Low Price'\n",
    "\n",
    "準確率反而下降"
   ]
  },
  {
   "cell_type": "code",
   "execution_count": 32,
   "metadata": {},
   "outputs": [
    {
     "name": "stdout",
     "output_type": "stream",
     "text": [
      "0.5198412698412699\n"
     ]
    }
   ],
   "source": [
    "logi_model = LogisticRegression()\n",
    "_ = logi_model.fit(train[['High Price', 'Low Price']], train_y)\n",
    "logi_pred = logi_model.predict(test[['High Price', 'Low Price']])\n",
    "print(accuracy_score(test_y, logi_pred))"
   ]
  },
  {
   "cell_type": "markdown",
   "metadata": {},
   "source": [
    "## 2. Support Vector Machine\n",
    "\n",
    "同樣使用默認的參數設定"
   ]
  },
  {
   "cell_type": "code",
   "execution_count": 16,
   "metadata": {
    "scrolled": true
   },
   "outputs": [],
   "source": [
    "from sklearn import svm\n",
    "\n",
    "svm_model = svm.SVC()\n",
    "_ = svm_model.fit(std_train_x, train_y)"
   ]
  },
  {
   "cell_type": "markdown",
   "metadata": {},
   "source": [
    "### Testing\n",
    "\n",
    "使用 SVM 一樣會發現結果很不準"
   ]
  },
  {
   "cell_type": "code",
   "execution_count": 45,
   "metadata": {},
   "outputs": [
    {
     "name": "stdout",
     "output_type": "stream",
     "text": [
      "0.5238095238095238\n"
     ]
    }
   ],
   "source": [
    "svm_pred = svm_model.predict(std_test_x)\n",
    "print(accuracy_score(test_y, svm_pred))"
   ]
  },
  {
   "cell_type": "markdown",
   "metadata": {},
   "source": [
    "觀察一下 SVM 得出的結果，甚至全部 predict 成 1"
   ]
  },
  {
   "cell_type": "code",
   "execution_count": 46,
   "metadata": {
    "scrolled": true
   },
   "outputs": [
    {
     "data": {
      "text/plain": [
       "array([1., 1., 1., 1., 1., 1., 1., 1., 1., 1., 1., 1., 1., 1., 1., 1., 1.,\n",
       "       1., 1., 1., 1., 1., 1., 1., 1., 1., 1., 1., 1., 1., 1., 1., 1., 1.,\n",
       "       1., 1., 1., 1., 1., 1., 1., 1., 1., 1., 1., 1., 1., 1., 1., 1., 1.,\n",
       "       1., 1., 1., 1., 1., 1., 1., 1., 1., 1., 1., 1., 1., 1., 1., 1., 1.,\n",
       "       1., 1., 1., 1., 1., 1., 1., 1., 1., 1., 1., 1., 1., 1., 1., 1., 1.,\n",
       "       1., 1., 1., 1., 1., 1., 1., 1., 1., 1., 1., 1., 1., 1., 1., 1., 1.,\n",
       "       1., 1., 1., 1., 1., 1., 1., 1., 1., 1., 1., 1., 1., 1., 1., 1., 1.,\n",
       "       1., 1., 1., 1., 1., 1., 1., 1., 1., 1., 1., 1., 1., 1., 1., 1., 1.,\n",
       "       1., 1., 1., 1., 1., 1., 1., 1., 1., 1., 1., 1., 1., 1., 1., 1., 1.,\n",
       "       1., 1., 1., 1., 1., 1., 1., 1., 1., 1., 1., 1., 1., 1., 1., 1., 1.,\n",
       "       1., 1., 1., 1., 1., 1., 1., 1., 1., 1., 1., 1., 1., 1., 1., 1., 1.,\n",
       "       1., 1., 1., 1., 1., 1., 1., 1., 1., 1., 1., 1., 1., 1., 1., 1., 1.,\n",
       "       1., 1., 1., 1., 1., 1., 1., 1., 1., 1., 1., 1., 1., 1., 1., 1., 1.,\n",
       "       1., 1., 1., 1., 1., 1., 1., 1., 1., 1., 1., 1., 1., 1., 1., 1., 1.,\n",
       "       1., 1., 1., 1., 1., 1., 1., 1., 1., 1., 1., 1., 1., 1.])"
      ]
     },
     "execution_count": 46,
     "metadata": {},
     "output_type": "execute_result"
    }
   ],
   "source": [
    "svm_pred"
   ]
  },
  {
   "cell_type": "markdown",
   "metadata": {},
   "source": [
    "### 嘗試修改 Kernal 爲 ploy\n",
    "\n",
    "結果和原本相同，都是0.5283"
   ]
  },
  {
   "cell_type": "code",
   "execution_count": 19,
   "metadata": {},
   "outputs": [
    {
     "name": "stdout",
     "output_type": "stream",
     "text": [
      "0.5238095238095238\n"
     ]
    }
   ],
   "source": [
    "svm_model = svm.SVC(kernel='poly')\n",
    "_ = svm_model.fit(std_train_x, train_y)\n",
    "\n",
    "svm_pred = svm_model.predict(std_test_x)\n",
    "print(accuracy_score(test_y, svm_pred))"
   ]
  },
  {
   "cell_type": "markdown",
   "metadata": {},
   "source": [
    "### 嘗試增大 ploy kernel 的 degree\n",
    "\n",
    "有趣的是，結果仍然相同"
   ]
  },
  {
   "cell_type": "code",
   "execution_count": 35,
   "metadata": {},
   "outputs": [
    {
     "name": "stdout",
     "output_type": "stream",
     "text": [
      "0.5238095238095238\n"
     ]
    }
   ],
   "source": [
    "svm_model = svm.SVC(kernel='poly', degree=5)\n",
    "_ = svm_model.fit(std_train_x, train_y)\n",
    "\n",
    "svm_pred = svm_model.predict(std_test_x)\n",
    "print(accuracy_score(test_y, svm_pred))"
   ]
  },
  {
   "cell_type": "markdown",
   "metadata": {},
   "source": [
    "### 用少一點 feature\n",
    "\n",
    "準確度沒有變化"
   ]
  },
  {
   "cell_type": "code",
   "execution_count": 36,
   "metadata": {},
   "outputs": [
    {
     "name": "stdout",
     "output_type": "stream",
     "text": [
      "0.5238095238095238\n"
     ]
    }
   ],
   "source": [
    "svm_model = svm.SVC()\n",
    "_ = svm_model.fit(train[['Open Price', 'Close Price']], train_y)\n",
    "\n",
    "svm_pred = svm_model.predict(test[['Open Price', 'Close Price']])\n",
    "print(accuracy_score(test_y, svm_pred))"
   ]
  },
  {
   "cell_type": "markdown",
   "metadata": {},
   "source": [
    "### 把 penalty 調低\n",
    "\n",
    "還是沒有任何變化"
   ]
  },
  {
   "cell_type": "code",
   "execution_count": 37,
   "metadata": {},
   "outputs": [
    {
     "name": "stdout",
     "output_type": "stream",
     "text": [
      "0.5238095238095238\n"
     ]
    }
   ],
   "source": [
    "svm_model = svm.SVC(C=0.05)\n",
    "_ = svm_model.fit(train[['Open Price', 'Close Price']], train_y)\n",
    "\n",
    "svm_pred = svm_model.predict(test[['Open Price', 'Close Price']])\n",
    "print(accuracy_score(test_y, svm_pred))"
   ]
  },
  {
   "cell_type": "markdown",
   "metadata": {},
   "source": [
    "## 3. Neural Network\n",
    "\n",
    "搭建一層 Hidden Layer，40 個 units"
   ]
  },
  {
   "cell_type": "code",
   "execution_count": 21,
   "metadata": {},
   "outputs": [
    {
     "name": "stdout",
     "output_type": "stream",
     "text": [
      "_________________________________________________________________\n",
      "Layer (type)                 Output Shape              Param #   \n",
      "=================================================================\n",
      "dense_1 (Dense)              (None, 40)                240       \n",
      "_________________________________________________________________\n",
      "dense_2 (Dense)              (None, 1)                 41        \n",
      "=================================================================\n",
      "Total params: 281\n",
      "Trainable params: 281\n",
      "Non-trainable params: 0\n",
      "_________________________________________________________________\n"
     ]
    }
   ],
   "source": [
    "model = models.Sequential()\n",
    "\n",
    "model.add(layers.Dense(input_dim=train_x.shape[1],\n",
    "                       units=40, \n",
    "                       activation='relu'))\n",
    "\n",
    "model.add(layers.Dense(units=1,\n",
    "                       activation='sigmoid'))\n",
    "\n",
    "model.compile(loss='binary_crossentropy',\n",
    "              optimizer='adam',\n",
    "              metrics=['accuracy'])\n",
    "\n",
    "model.summary()\n",
    "history = model.fit(std_train_x, \n",
    "                    train_y, \n",
    "                    epochs=50, \n",
    "                    validation_data=(std_test_x, test_y),\n",
    "                    verbose=False)\n"
   ]
  },
  {
   "cell_type": "code",
   "execution_count": 22,
   "metadata": {},
   "outputs": [
    {
     "data": {
      "text/plain": [
       "<matplotlib.legend.Legend at 0x7f7a504f3860>"
      ]
     },
     "execution_count": 22,
     "metadata": {},
     "output_type": "execute_result"
    },
    {
     "data": {
      "image/png": "[encoded data removed]",
      "text/plain": [
       "<Figure size 432x288 with 1 Axes>"
      ]
     },
     "metadata": {
      "needs_background": "light"
     },
     "output_type": "display_data"
    }
   ],
   "source": [
    "plt.title('Training History')\n",
    "plt.plot(history.history['acc'])\n",
    "plt.ylim(0, 1.1)\n",
    "plt.plot(history.history['val_acc'])\n",
    "plt.legend(['training_acc', 'test_acc'])"
   ]
  },
  {
   "cell_type": "code",
   "execution_count": 23,
   "metadata": {
    "scrolled": true
   },
   "outputs": [
    {
     "name": "stdout",
     "output_type": "stream",
     "text": [
      "0.5198412698412699\n"
     ]
    }
   ],
   "source": [
    "nn_pred = model.predict_classes(std_test_x)\n",
    "print(accuracy_score(test_y, nn_pred))"
   ]
  },
  {
   "cell_type": "markdown",
   "metadata": {},
   "source": [
    "發現比 Logistic Regression 和 SVM 的結果還要糟糕\n",
    "\n",
    "而且模型的 Training Accuracy 無法上升，說明模型正在 Underfitting"
   ]
  },
  {
   "cell_type": "markdown",
   "metadata": {},
   "source": [
    "### 嘗試加第二層 Hidden Layer\n",
    "\n",
    "在第二層 Hidden Layer 中加入 100 個 units，避免 Under Fitting"
   ]
  },
  {
   "cell_type": "code",
   "execution_count": 24,
   "metadata": {},
   "outputs": [
    {
     "name": "stdout",
     "output_type": "stream",
     "text": [
      "_________________________________________________________________\n",
      "Layer (type)                 Output Shape              Param #   \n",
      "=================================================================\n",
      "dense_3 (Dense)              (None, 40)                240       \n",
      "_________________________________________________________________\n",
      "dense_4 (Dense)              (None, 100)               4100      \n",
      "_________________________________________________________________\n",
      "dense_5 (Dense)              (None, 1)                 101       \n",
      "=================================================================\n",
      "Total params: 4,441\n",
      "Trainable params: 4,441\n",
      "Non-trainable params: 0\n",
      "_________________________________________________________________\n"
     ]
    }
   ],
   "source": [
    "model = models.Sequential()\n",
    "\n",
    "model.add(layers.Dense(input_dim=train_x.shape[1],\n",
    "                       units=40, \n",
    "                       activation='relu'))\n",
    "\n",
    "model.add(layers.Dense(units=100, \n",
    "                       activation='relu'))\n",
    "\n",
    "model.add(layers.Dense(units=1,\n",
    "                       activation='sigmoid'))\n",
    "\n",
    "model.compile(loss='binary_crossentropy',\n",
    "              optimizer='adam',\n",
    "              metrics=['accuracy'])\n",
    "\n",
    "model.summary()\n",
    "history = model.fit(std_train_x, \n",
    "                    train_y, \n",
    "                    epochs=50, \n",
    "                    validation_data=(std_test_x, test_y),\n",
    "                    verbose=False)\n"
   ]
  },
  {
   "cell_type": "code",
   "execution_count": 25,
   "metadata": {},
   "outputs": [
    {
     "data": {
      "text/plain": [
       "<matplotlib.legend.Legend at 0x7f7a5005d6d8>"
      ]
     },
     "execution_count": 25,
     "metadata": {},
     "output_type": "execute_result"
    },
    {
     "data": {
      "image/png": "[encoded data removed]",
      "text/plain": [
       "<Figure size 432x288 with 1 Axes>"
      ]
     },
     "metadata": {
      "needs_background": "light"
     },
     "output_type": "display_data"
    }
   ],
   "source": [
    "plt.title('Training History')\n",
    "plt.plot(history.history['acc'])\n",
    "plt.ylim(0, 1.1)\n",
    "plt.plot(history.history['val_acc'])\n",
    "plt.legend(['training_acc', 'test_acc'])"
   ]
  },
  {
   "cell_type": "code",
   "execution_count": 26,
   "metadata": {},
   "outputs": [
    {
     "name": "stdout",
     "output_type": "stream",
     "text": [
      "0.5198412698412699\n"
     ]
    }
   ],
   "source": [
    "nn_pred = model.predict_classes(std_test_x)\n",
    "print(accuracy_score(test_y, nn_pred))"
   ]
  },
  {
   "cell_type": "markdown",
   "metadata": {},
   "source": [
    "出現了十分有趣的結果！\n",
    "\n",
    "模型仍然在 Under Fitting，但 Neural Network 和 Logistic Regression 還有 SVM 居然產生**一樣的準確率!**\n",
    "\n",
    "也就是說， Neural Network 也學會全部都 Predict 成 1"
   ]
  },
  {
   "cell_type": "code",
   "execution_count": 27,
   "metadata": {},
   "outputs": [
    {
     "data": {
      "text/plain": [
       "array([1, 1, 1, 1, 1, 1, 1, 1, 1, 1, 1, 1, 1, 1, 1, 1, 1, 1, 1, 1, 1, 1,\n",
       "       1, 1, 1, 1, 1, 1, 1, 1, 1, 1, 1, 1, 1, 1, 1, 1, 1, 1, 1, 1, 1, 1,\n",
       "       1, 1, 1, 1, 1, 1, 1, 1, 1, 1, 1, 1, 1, 1, 1, 1, 1, 1, 1, 1, 1, 1,\n",
       "       1, 1, 1, 1, 1, 1, 1, 1, 1, 1, 1, 1, 1, 1, 1, 1, 1, 1, 1, 1, 1, 1,\n",
       "       1, 1, 1, 1, 1, 1, 1, 1, 1, 1, 1, 1, 1, 1, 1, 1, 1, 1, 1, 1, 1, 1,\n",
       "       1, 1, 1, 1, 1, 1, 1, 1, 1, 1, 1, 1, 1, 1, 1, 1, 1, 1, 1, 1, 1, 1,\n",
       "       1, 1, 1, 1, 1, 1, 1, 1, 1, 1, 1, 1, 1, 1, 1, 1, 1, 1, 1, 1, 1, 1,\n",
       "       1, 1, 1, 1, 1, 1, 1, 1, 1, 1, 1, 1, 1, 1, 1, 1, 1, 1, 1, 1, 1, 1,\n",
       "       1, 1, 1, 1, 1, 1, 1, 1, 1, 1, 1, 1, 1, 1, 1, 1, 1, 1, 1, 1, 1, 1,\n",
       "       1, 1, 1, 1, 1, 1, 1, 1, 1, 1, 1, 1, 1, 1, 1, 1, 1, 1, 1, 1, 1, 1,\n",
       "       1, 1, 1, 1, 1, 1, 0, 1, 1, 1, 1, 1, 1, 1, 1, 1, 1, 1, 1, 1, 1, 1,\n",
       "       1, 1, 1, 1, 1, 1, 1, 1, 1, 1], dtype=int32)"
      ]
     },
     "execution_count": 27,
     "metadata": {},
     "output_type": "execute_result"
    }
   ],
   "source": [
    "nn_pred.reshape(252)"
   ]
  },
  {
   "cell_type": "markdown",
   "metadata": {},
   "source": [
    "## 討論\n",
    "\n",
    "### 預測結果\n",
    "\n",
    "有趣的是，Logistic Regression、 SVM 甚至 NN 都給出同樣的預測：\n",
    "\n",
    "**把所有結果 Predict 成 1 ！**\n",
    "\n",
    "這樣做最多也只能達到 Base Line Model 的結果\n",
    "\n",
    "### WHY?\n",
    "\n",
    "回頭看看數據集，是要預測股票的**漲跌**\n",
    "\n",
    "股票的漲跌有很多因素影響，像是公司的財報、技術的革命、發布壞消息等等\n",
    "\n",
    "甚至有人用**混沌理論**來解釋股票市場\n",
    "\n",
    "基本上現在還沒有人能準確的預測股票的漲跌\n",
    "\n",
    "在這次的實驗中，僅僅依靠這個數據集少量的 feature 是根本不可能預測股票漲跌的\n",
    "\n",
    "多層的 Neural Network 都無法很好的 Fit 數據集，由此可見這個數據集其實沒什麼依據或者規律可循"
   ]
  },
  {
   "cell_type": "markdown",
   "metadata": {},
   "source": [
    "## Extended Question\n",
    "\n",
    "### 利用過往 4 天的資料預測隔天的股票漲跌\n",
    "\n",
    "之前只用一天的資料預測隔天的漲跌，每一天只有用到 5 個 Features\n",
    "\n",
    "一次用過往四天的資料（加上本身一天共 5 天），共 5×5=25 個 features 預測隔天的漲跌"
   ]
  },
  {
   "cell_type": "code",
   "execution_count": 28,
   "metadata": {},
   "outputs": [],
   "source": [
    "data_5_X = []\n",
    "data_5_y = []\n",
    "\n",
    "for index in range(len(data)-6):\n",
    "    row = []\n",
    "    \n",
    "    cur = data.iloc[index+4, 2]\n",
    "    nxt = data.iloc[index+5, 2]\n",
    "    \n",
    "    if nxt >= cur:\n",
    "        data_5_y.append(1)\n",
    "    else:\n",
    "        data_5_y.append(0)\n",
    "        \n",
    "    for j in range(index, index+5):\n",
    "        row.append(list(data.iloc[j, 1:6]))\n",
    "    \n",
    "    data_5_X.append(np.array(row).reshape(25))\n",
    "\n",
    "data_5_y = pd.DataFrame(data_5_y)"
   ]
  },
  {
   "cell_type": "code",
   "execution_count": 29,
   "metadata": {},
   "outputs": [],
   "source": [
    "data_5_x = pd.DataFrame(data_5_X)"
   ]
  },
  {
   "cell_type": "markdown",
   "metadata": {},
   "source": [
    "總共合成出 2510 筆資料，每個資料共 25 個 features"
   ]
  },
  {
   "cell_type": "code",
   "execution_count": 30,
   "metadata": {
    "scrolled": false
   },
   "outputs": [
    {
     "data": {
      "text/plain": [
       "(2510, 25)"
      ]
     },
     "execution_count": 30,
     "metadata": {},
     "output_type": "execute_result"
    }
   ],
   "source": [
    "data_5_x.shape"
   ]
  },
  {
   "cell_type": "code",
   "execution_count": 31,
   "metadata": {},
   "outputs": [
    {
     "data": {
      "text/plain": [
       "(2510, 1)"
      ]
     },
     "execution_count": 31,
     "metadata": {},
     "output_type": "execute_result"
    }
   ],
   "source": [
    "data_5_y.shape"
   ]
  },
  {
   "cell_type": "markdown",
   "metadata": {},
   "source": [
    "### Train / Test Split\n",
    "\n",
    "根據原本的 Data， Training Set 共 2264 筆 Data\n",
    "\n",
    "因爲現在以 5 天爲一組，加上一個預測的Target，所以要減掉 6 組，Training Data 要有 2258 筆\n"
   ]
  },
  {
   "cell_type": "code",
   "execution_count": 32,
   "metadata": {},
   "outputs": [
    {
     "name": "stdout",
     "output_type": "stream",
     "text": [
      "(2258, 25)\n",
      "(252, 25)\n"
     ]
    }
   ],
   "source": [
    "data_5_train_x = data_5_x[:2258]\n",
    "data_5_train_y = data_5_y[:2258]\n",
    "\n",
    "data_5_test_x = data_5_x[2258:]\n",
    "data_5_test_y = data_5_y[2258:]\n",
    "\n",
    "print(data_5_train_x.shape)\n",
    "print(data_5_test_x.shape)"
   ]
  },
  {
   "cell_type": "markdown",
   "metadata": {},
   "source": [
    "### Logistic Regression\n",
    "\n",
    "又出現這個 0.5238 的數字！"
   ]
  },
  {
   "cell_type": "code",
   "execution_count": 33,
   "metadata": {},
   "outputs": [
    {
     "name": "stdout",
     "output_type": "stream",
     "text": [
      "0.5238095238095238\n"
     ]
    }
   ],
   "source": [
    "logi_5_model = LogisticRegression()\n",
    "_ = logi_5_model.fit(data_5_train_x, data_5_train_y)\n",
    "\n",
    "logi_5_pred = logi_5_model.predict(data_5_test_x)\n",
    "print(accuracy_score(data_5_test_y, logi_5_pred))"
   ]
  },
  {
   "cell_type": "markdown",
   "metadata": {},
   "source": [
    "### SVM Model\n",
    "\n",
    "結果居然一樣是 0.5238 ....."
   ]
  },
  {
   "cell_type": "code",
   "execution_count": 34,
   "metadata": {},
   "outputs": [
    {
     "name": "stdout",
     "output_type": "stream",
     "text": [
      "0.5238095238095238\n"
     ]
    }
   ],
   "source": [
    "svm_5_model = svm.SVC()\n",
    "_ = svm_5_model.fit(data_5_train_x, data_5_train_y)\n",
    "\n",
    "svm_5_pred = svm_5_model.predict(data_5_test_x)\n",
    "print(accuracy_score(data_5_test_y, svm_5_pred))"
   ]
  },
  {
   "cell_type": "markdown",
   "metadata": {},
   "source": [
    "### 討論\n",
    "\n",
    "使用了前幾天的資料作爲新的 Feature 輸入 Model 並沒有作用\n",
    "\n",
    "更加說明:\n",
    "\n",
    "1. 股票市場很難預測\n",
    "2. 僅僅 **合並** 這一些 Feature 不足以預測股票市場"
   ]
  },
  {
   "cell_type": "markdown",
   "metadata": {},
   "source": [
    "## Another Dataset\n",
    "\n",
    "因爲預測股票的 Dataset 三個模型的表現 **都一樣** 所以換一個 Dataset 來比較三種模型的差異\n",
    "\n",
    "### Titanic Dataset\n",
    "\n",
    "使用著名的 [Titanic Dataset](https://www.kaggle.com/c/titanic/data)，並參考之前 [Decision Tree 練習](https://github.com/IKMLab/FDA-practice-Decision-Tree/blob/master/decision_tree_sklearn.ipynb) 的 Preprocess 方法\n",
    "\n",
    "簡介：使用艙等，性別，年齡，伴侶數量，票價等等 feature 預測在 Titanic 的事故中是否存活下來"
   ]
  },
  {
   "cell_type": "code",
   "execution_count": 35,
   "metadata": {},
   "outputs": [
    {
     "data": {
      "text/html": [
       "<div>\n",
       "<style scoped>\n",
       "    .dataframe tbody tr th:only-of-type {\n",
       "        vertical-align: middle;\n",
       "    }\n",
       "\n",
       "    .dataframe tbody tr th {\n",
       "        vertical-align: top;\n",
       "    }\n",
       "\n",
       "    .dataframe thead th {\n",
       "        text-align: right;\n",
       "    }\n",
       "</style>\n",
       "<table border=\"1\" class=\"dataframe\">\n",
       "  <thead>\n",
       "    <tr style=\"text-align: right;\">\n",
       "      <th></th>\n",
       "      <th>Survived</th>\n",
       "      <th>Pclass</th>\n",
       "      <th>Sex</th>\n",
       "      <th>Age</th>\n",
       "      <th>SibSp</th>\n",
       "      <th>Parch</th>\n",
       "      <th>Fare</th>\n",
       "    </tr>\n",
       "  </thead>\n",
       "  <tbody>\n",
       "    <tr>\n",
       "      <th>0</th>\n",
       "      <td>0</td>\n",
       "      <td>3</td>\n",
       "      <td>0</td>\n",
       "      <td>22.0</td>\n",
       "      <td>1</td>\n",
       "      <td>0</td>\n",
       "      <td>7.2500</td>\n",
       "    </tr>\n",
       "    <tr>\n",
       "      <th>1</th>\n",
       "      <td>1</td>\n",
       "      <td>1</td>\n",
       "      <td>1</td>\n",
       "      <td>38.0</td>\n",
       "      <td>1</td>\n",
       "      <td>0</td>\n",
       "      <td>71.2833</td>\n",
       "    </tr>\n",
       "    <tr>\n",
       "      <th>2</th>\n",
       "      <td>1</td>\n",
       "      <td>3</td>\n",
       "      <td>1</td>\n",
       "      <td>26.0</td>\n",
       "      <td>0</td>\n",
       "      <td>0</td>\n",
       "      <td>7.9250</td>\n",
       "    </tr>\n",
       "    <tr>\n",
       "      <th>3</th>\n",
       "      <td>1</td>\n",
       "      <td>1</td>\n",
       "      <td>1</td>\n",
       "      <td>35.0</td>\n",
       "      <td>1</td>\n",
       "      <td>0</td>\n",
       "      <td>53.1000</td>\n",
       "    </tr>\n",
       "    <tr>\n",
       "      <th>4</th>\n",
       "      <td>0</td>\n",
       "      <td>3</td>\n",
       "      <td>0</td>\n",
       "      <td>35.0</td>\n",
       "      <td>0</td>\n",
       "      <td>0</td>\n",
       "      <td>8.0500</td>\n",
       "    </tr>\n",
       "  </tbody>\n",
       "</table>\n",
       "</div>"
      ],
      "text/plain": [
       "   Survived  Pclass  Sex   Age  SibSp  Parch     Fare\n",
       "0         0       3    0  22.0      1      0   7.2500\n",
       "1         1       1    1  38.0      1      0  71.2833\n",
       "2         1       3    1  26.0      0      0   7.9250\n",
       "3         1       1    1  35.0      1      0  53.1000\n",
       "4         0       3    0  35.0      0      0   8.0500"
      ]
     },
     "execution_count": 35,
     "metadata": {},
     "output_type": "execute_result"
    }
   ],
   "source": [
    "df = pd.read_csv('titanic.csv')\n",
    "\n",
    "# Drop Useless\n",
    "df = df.drop('PassengerId', axis = 1)\n",
    "df = df.drop('Name', axis = 1)\n",
    "df = df.drop('Ticket', axis = 1)\n",
    "df = df.drop('Cabin', axis = 1)\n",
    "df = df.drop('Embarked', axis = 1)\n",
    "\n",
    "# Fill NULL\n",
    "age = df['Age']\n",
    "avgage = age.sum(axis = 0, skipna = True) /len(age)\n",
    "df['Age'].fillna(avgage, inplace = True)\n",
    "\n",
    "# Deal Sex\n",
    "sex_map = {'male' : 0, 'female' :1}\n",
    "df['Sex'] = df['Sex'].map(sex_map)\n",
    "\n",
    "df.head()"
   ]
  },
  {
   "cell_type": "code",
   "execution_count": 36,
   "metadata": {},
   "outputs": [],
   "source": [
    "train_x = df[:700].drop('Survived', 1)\n",
    "train_y = df['Survived'][:700]\n",
    "\n",
    "test_x = df[700:].drop('Survived', 1)\n",
    "test_y = df['Survived'][700:]"
   ]
  },
  {
   "cell_type": "code",
   "execution_count": 37,
   "metadata": {},
   "outputs": [],
   "source": [
    "from sklearn.preprocessing import StandardScaler\n",
    "\n",
    "scaler = StandardScaler()\n",
    "scaler.fit(train_x)\n",
    "\n",
    "std_train_x = scaler.transform(train_x)\n",
    "std_test_x = scaler.transform(test_x)"
   ]
  },
  {
   "cell_type": "markdown",
   "metadata": {},
   "source": [
    "### 1. Logistic Regression\n",
    "\n",
    "使用默認參數，Logistic Regression 做到 0.816 的準確度"
   ]
  },
  {
   "cell_type": "code",
   "execution_count": 38,
   "metadata": {},
   "outputs": [
    {
     "name": "stdout",
     "output_type": "stream",
     "text": [
      "0.8167539267015707\n"
     ]
    }
   ],
   "source": [
    "logi_model = LogisticRegression()\n",
    "_ = logi_model.fit(train_x, train_y)\n",
    "\n",
    "logi_pred = logi_model.predict(test_x)\n",
    "print(accuracy_score(test_y, logi_pred))"
   ]
  },
  {
   "cell_type": "markdown",
   "metadata": {},
   "source": [
    "做了標準化之後準確率一樣，猜想是因爲 Logistic Regression 的 Implementation 有先做 L2 Norm 的關系"
   ]
  },
  {
   "cell_type": "code",
   "execution_count": 39,
   "metadata": {},
   "outputs": [
    {
     "name": "stdout",
     "output_type": "stream",
     "text": [
      "0.8167539267015707\n"
     ]
    }
   ],
   "source": [
    "logi_model = LogisticRegression()\n",
    "_ = logi_model.fit(std_train_x, train_y)\n",
    "\n",
    "logi_pred = logi_model.predict(std_test_x)\n",
    "print(accuracy_score(test_y, logi_pred))"
   ]
  },
  {
   "cell_type": "markdown",
   "metadata": {},
   "source": [
    "### 2. SVM\n",
    "\n",
    "使用默認參數，SVM 做到 0.717 的準確度"
   ]
  },
  {
   "cell_type": "code",
   "execution_count": 40,
   "metadata": {},
   "outputs": [
    {
     "name": "stdout",
     "output_type": "stream",
     "text": [
      "0.7172774869109948\n"
     ]
    }
   ],
   "source": [
    "svm_model = svm.SVC()\n",
    "svm_model.fit(train_x, train_y)\n",
    "\n",
    "svm_pred = svm_model.predict(test_x)\n",
    "print(accuracy_score(test_y, svm_pred))"
   ]
  },
  {
   "cell_type": "markdown",
   "metadata": {},
   "source": [
    "如果做了標準化， SVM 可以將準確率提高到 0.85"
   ]
  },
  {
   "cell_type": "code",
   "execution_count": 44,
   "metadata": {},
   "outputs": [
    {
     "name": "stdout",
     "output_type": "stream",
     "text": [
      "0.8534031413612565\n"
     ]
    }
   ],
   "source": [
    "svm_model = svm.SVC()\n",
    "svm_model.fit(std_train_x, train_y)\n",
    "\n",
    "svm_pred = svm_model.predict(std_test_x)\n",
    "print(accuracy_score(test_y, svm_pred))"
   ]
  },
  {
   "cell_type": "markdown",
   "metadata": {},
   "source": [
    "### 3. Neural Network\n",
    "\n",
    "使用兩層 Hidden Layer，每層中各有 20 個 unit\n",
    "\n",
    "如果不先做標準化，準確率只有 0.80"
   ]
  },
  {
   "cell_type": "code",
   "execution_count": 42,
   "metadata": {},
   "outputs": [
    {
     "name": "stdout",
     "output_type": "stream",
     "text": [
      "_________________________________________________________________\n",
      "Layer (type)                 Output Shape              Param #   \n",
      "=================================================================\n",
      "dense_6 (Dense)              (None, 20)                140       \n",
      "_________________________________________________________________\n",
      "dense_7 (Dense)              (None, 40)                840       \n",
      "_________________________________________________________________\n",
      "dense_8 (Dense)              (None, 1)                 41        \n",
      "=================================================================\n",
      "Total params: 1,021\n",
      "Trainable params: 1,021\n",
      "Non-trainable params: 0\n",
      "_________________________________________________________________\n",
      "0.806282722513089\n"
     ]
    }
   ],
   "source": [
    "model = models.Sequential()\n",
    "\n",
    "model.add(layers.Dense(input_dim=train_x.shape[1],\n",
    "                       units=20, \n",
    "                       activation='relu'))\n",
    "\n",
    "model.add(layers.Dense(units=40, \n",
    "                       activation='relu'))\n",
    "\n",
    "\n",
    "model.add(layers.Dense(units=1,\n",
    "                       activation='sigmoid'))\n",
    "\n",
    "model.compile(loss='binary_crossentropy',\n",
    "              optimizer='adam',\n",
    "              metrics=['accuracy'])\n",
    "\n",
    "model.summary()\n",
    "history = model.fit(train_x, \n",
    "                    train_y, \n",
    "                    epochs=50, \n",
    "                    validation_data=(test_x, test_y),\n",
    "                    verbose=False)\n",
    "\n",
    "nn_pred = model.predict_classes(test_x)\n",
    "print(accuracy_score(test_y, nn_pred))"
   ]
  },
  {
   "cell_type": "markdown",
   "metadata": {},
   "source": [
    "如果做了標準化，準確率上升到 0.85"
   ]
  },
  {
   "cell_type": "code",
   "execution_count": 43,
   "metadata": {},
   "outputs": [
    {
     "name": "stdout",
     "output_type": "stream",
     "text": [
      "_________________________________________________________________\n",
      "Layer (type)                 Output Shape              Param #   \n",
      "=================================================================\n",
      "dense_9 (Dense)              (None, 20)                140       \n",
      "_________________________________________________________________\n",
      "dense_10 (Dense)             (None, 40)                840       \n",
      "_________________________________________________________________\n",
      "dense_11 (Dense)             (None, 1)                 41        \n",
      "=================================================================\n",
      "Total params: 1,021\n",
      "Trainable params: 1,021\n",
      "Non-trainable params: 0\n",
      "_________________________________________________________________\n",
      "0.8586387434554974\n"
     ]
    }
   ],
   "source": [
    "model = models.Sequential()\n",
    "\n",
    "model.add(layers.Dense(input_dim=train_x.shape[1],\n",
    "                       units=20, \n",
    "                       activation='relu'))\n",
    "\n",
    "model.add(layers.Dense(units=40, \n",
    "                       activation='relu'))\n",
    "\n",
    "\n",
    "model.add(layers.Dense(units=1,\n",
    "                       activation='sigmoid'))\n",
    "\n",
    "model.compile(loss='binary_crossentropy',\n",
    "              optimizer='adam',\n",
    "              metrics=['accuracy'])\n",
    "\n",
    "model.summary()\n",
    "history = model.fit(std_train_x, \n",
    "                    train_y, \n",
    "                    epochs=50, \n",
    "                    validation_data=(std_test_x, test_y),\n",
    "                    verbose=False)\n",
    "\n",
    "nn_pred = model.predict_classes(std_test_x)\n",
    "print(accuracy_score(test_y, nn_pred))"
   ]
  },
  {
   "cell_type": "markdown",
   "metadata": {},
   "source": [
    "### 討論\n",
    "\n",
    "各模型準確率比較：\n",
    "\n",
    "1. Neural Network: 0.8586\n",
    "2. SVM: 0.8543\n",
    "3. Logistic Regression: 0.8167\n",
    "\n",
    "個人看法：\n",
    "\n",
    "* Neural Network 能 Predict 最準其實不意外，畢竟它的參數最多，最有能力'學習'資料集\n",
    "* 對於 SVM 和 NN 來說，一開始對資料集的標準化很重要，因爲資料集常常不同 feature 有不同的 range\n",
    "* 如果再對 Dataset 做更細致的 Feature Engineering，會獲得更好的結果"
   ]
  },
  {
   "cell_type": "code",
   "execution_count": null,
   "metadata": {},
   "outputs": [],
   "source": []
  }
 ],
 "metadata": {
  "kernelspec": {
   "display_name": "Python 3",
   "language": "python",
   "name": "python3"
  },
  "language_info": {
   "codemirror_mode": {
    "name": "ipython",
    "version": 3
   },
   "file_extension": ".py",
   "mimetype": "text/x-python",
   "name": "python",
   "nbconvert_exporter": "python",
   "pygments_lexer": "ipython3",
   "version": "3.6.7"
  }
 },
 "nbformat": 4,
 "nbformat_minor": 2
}
